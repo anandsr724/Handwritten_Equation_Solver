{
 "cells": [
  {
   "cell_type": "code",
   "execution_count": 1,
   "metadata": {},
   "outputs": [],
   "source": [
    "import os"
   ]
  },
  {
   "cell_type": "code",
   "execution_count": 2,
   "metadata": {},
   "outputs": [
    {
     "data": {
      "text/plain": [
       "'d:\\\\Code\\\\Git\\\\myprojects\\\\Equation-Solver-End-to-End\\\\Handwritten_Equation_Solver\\\\research'"
      ]
     },
     "execution_count": 2,
     "metadata": {},
     "output_type": "execute_result"
    }
   ],
   "source": [
    "%pwd"
   ]
  },
  {
   "cell_type": "code",
   "execution_count": 3,
   "metadata": {},
   "outputs": [],
   "source": [
    "os.chdir(\"../\")"
   ]
  },
  {
   "cell_type": "code",
   "execution_count": 4,
   "metadata": {},
   "outputs": [
    {
     "data": {
      "text/plain": [
       "'d:\\\\Code\\\\Git\\\\myprojects\\\\Equation-Solver-End-to-End\\\\Handwritten_Equation_Solver'"
      ]
     },
     "execution_count": 4,
     "metadata": {},
     "output_type": "execute_result"
    }
   ],
   "source": [
    "%pwd"
   ]
  },
  {
   "cell_type": "code",
   "execution_count": 5,
   "metadata": {},
   "outputs": [
    {
     "data": {
      "text/html": [
       "<pre style=\"white-space:pre;overflow-x:auto;line-height:normal;font-family:Menlo,'DejaVu Sans Mono',consolas,'Courier New',monospace\">Accessing as anandsr724\n",
       "</pre>\n"
      ],
      "text/plain": [
       "Accessing as anandsr724\n"
      ]
     },
     "metadata": {},
     "output_type": "display_data"
    },
    {
     "data": {
      "text/html": [
       "<pre style=\"white-space:pre;overflow-x:auto;line-height:normal;font-family:Menlo,'DejaVu Sans Mono',consolas,'Courier New',monospace\">Initialized MLflow to track repo <span style=\"color: #008000; text-decoration-color: #008000\">\"anandsr724/Handwritten_Equation_Solver\"</span>\n",
       "</pre>\n"
      ],
      "text/plain": [
       "Initialized MLflow to track repo \u001b[32m\"anandsr724/Handwritten_Equation_Solver\"\u001b[0m\n"
      ]
     },
     "metadata": {},
     "output_type": "display_data"
    },
    {
     "data": {
      "text/html": [
       "<pre style=\"white-space:pre;overflow-x:auto;line-height:normal;font-family:Menlo,'DejaVu Sans Mono',consolas,'Courier New',monospace\">Repository anandsr724/Handwritten_Equation_Solver initialized!\n",
       "</pre>\n"
      ],
      "text/plain": [
       "Repository anandsr724/Handwritten_Equation_Solver initialized!\n"
      ]
     },
     "metadata": {},
     "output_type": "display_data"
    },
    {
     "name": "stderr",
     "output_type": "stream",
     "text": [
      "2024/11/06 13:13:41 INFO mlflow.tracking._tracking_service.client: 🏃 View run luxuriant-roo-801 at: https://dagshub.com/anandsr724/Handwritten_Equation_Solver.mlflow/#/experiments/0/runs/78e6389a058f4b2abf145e9b123623ea.\n",
      "2024/11/06 13:13:41 INFO mlflow.tracking._tracking_service.client: 🧪 View experiment at: https://dagshub.com/anandsr724/Handwritten_Equation_Solver.mlflow/#/experiments/0.\n"
     ]
    }
   ],
   "source": [
    "import dagshub\n",
    "dagshub.init(repo_owner='anandsr724', repo_name='Handwritten_Equation_Solver', mlflow=True)\n",
    "\n",
    "import mlflow\n",
    "with mlflow.start_run():\n",
    "  mlflow.log_param('parameter name', 'value')\n",
    "  mlflow.log_metric('metric name', 1)"
   ]
  },
  {
   "cell_type": "code",
   "execution_count": 6,
   "metadata": {},
   "outputs": [
    {
     "name": "stdout",
     "output_type": "stream",
     "text": [
      "WARNING:tensorflow:From d:\\Code\\Git\\myprojects\\Equation-Solver-End-to-End\\Handwritten_Equation_Solver\\.eq_solver_venv\\Lib\\site-packages\\keras\\src\\losses.py:2976: The name tf.losses.sparse_softmax_cross_entropy is deprecated. Please use tf.compat.v1.losses.sparse_softmax_cross_entropy instead.\n",
      "\n"
     ]
    }
   ],
   "source": [
    "import tensorflow as tf"
   ]
  },
  {
   "cell_type": "code",
   "execution_count": 7,
   "metadata": {},
   "outputs": [
    {
     "name": "stdout",
     "output_type": "stream",
     "text": [
      "WARNING:tensorflow:From d:\\Code\\Git\\myprojects\\Equation-Solver-End-to-End\\Handwritten_Equation_Solver\\.eq_solver_venv\\Lib\\site-packages\\keras\\src\\backend.py:1398: The name tf.executing_eagerly_outside_functions is deprecated. Please use tf.compat.v1.executing_eagerly_outside_functions instead.\n",
      "\n"
     ]
    }
   ],
   "source": [
    "model = tf.keras.models.load_model(\"artifacts/training/model.h5\")"
   ]
  },
  {
   "cell_type": "code",
   "execution_count": 8,
   "metadata": {},
   "outputs": [],
   "source": [
    "from dataclasses import dataclass\n",
    "from pathlib import Path\n",
    "\n",
    "@dataclass(frozen=True)\n",
    "class EvaluationConfig:\n",
    "    path_of_model: Path\n",
    "    training_data: Path\n",
    "    all_params: dict\n",
    "    mlflow_uri: str\n",
    "    params_image_size: list\n",
    "    params_batch_size: int\n",
    "    classes_ideal: list\n"
   ]
  },
  {
   "cell_type": "code",
   "execution_count": 9,
   "metadata": {},
   "outputs": [],
   "source": [
    "from equation_solver.constants import *\n",
    "from equation_solver.utils.common import read_yaml, create_directories, save_json\n",
    "from equation_solver.utils.common import get_unique_class_names\n"
   ]
  },
  {
   "cell_type": "code",
   "execution_count": 10,
   "metadata": {},
   "outputs": [],
   "source": [
    "class ConfigurationManager:\n",
    "    def __init__(\n",
    "        self, \n",
    "        config_filepath = CONFIG_FILE_PATH,\n",
    "        params_filepath = PARAMS_FILE_PATH):\n",
    "        self.config = read_yaml(config_filepath)\n",
    "        self.params = read_yaml(params_filepath)\n",
    "        create_directories([self.config.artifacts_root])\n",
    "\n",
    "    \n",
    "    def get_evaluation_config(self) -> EvaluationConfig:\n",
    "        training = self.config.training\n",
    "        # prepare_base_model = self.config.prepare_base_model\n",
    "        params = self.params\n",
    "        training_data = os.path.join(self.config.data_ingestion.unzip_dir, \"symbol_data\")\n",
    "        classes_ideal = get_unique_class_names(training_data)\n",
    "\n",
    "        eval_config = EvaluationConfig(\n",
    "            path_of_model=Path(training.trained_model_path),\n",
    "            training_data=Path(training_data),\n",
    "            mlflow_uri=\"https://dagshub.com/anandsr724/Handwritten_Equation_Solver.mlflow\",\n",
    "            all_params=self.params,\n",
    "            params_image_size=params.IMAGE_SIZE,\n",
    "            params_batch_size=params.BATCH_SIZE,\n",
    "            classes_ideal=classes_ideal\n",
    "        )\n",
    "        return eval_config"
   ]
  },
  {
   "cell_type": "code",
   "execution_count": 11,
   "metadata": {},
   "outputs": [],
   "source": [
    "import tensorflow as tf\n",
    "from pathlib import Path\n",
    "import mlflow\n",
    "import mlflow.keras\n",
    "from urllib.parse import urlparse\n",
    "import numpy as np\n",
    "from sklearn.model_selection import train_test_split\n"
   ]
  },
  {
   "cell_type": "code",
   "execution_count": 12,
   "metadata": {},
   "outputs": [],
   "source": [
    "class Evaluation:\n",
    "    def __init__(self, config: EvaluationConfig):\n",
    "        self.config = config\n",
    "        self.class_indices = {name: idx for idx, name in enumerate(self.config.classes_ideal)}\n",
    "        self.model = self.load_model(self.config.path_of_model)\n",
    "\n",
    "    def load_data(self):\n",
    "        all_files = []\n",
    "        for root, dirs, files in os.walk(self.config.training_data):\n",
    "            for file in files:\n",
    "                if file.endswith(('.png', '.jpg', '.jpeg')):\n",
    "                    class_name = os.path.basename(root)\n",
    "                    if class_name in self.class_indices:\n",
    "                        file_path = os.path.join(root, file)\n",
    "                        all_files.append((file_path, class_name))\n",
    "\n",
    "        # Shuffle the files\n",
    "        np.random.shuffle(all_files)\n",
    "\n",
    "        # Split file paths and labels\n",
    "        file_paths, class_names = zip(*all_files)\n",
    "        labels = [self.class_indices[class_name] for class_name in class_names]\n",
    "\n",
    "        # Perform stratified split\n",
    "        file_paths_train, file_paths_val, labels_train, labels_val = train_test_split(\n",
    "            file_paths, labels, test_size=0.2, stratify=labels, random_state=34\n",
    "        )\n",
    "\n",
    "        # Create datasets\n",
    "        val_ds = tf.data.Dataset.from_tensor_slices((file_paths_val, labels_val))\n",
    "\n",
    "        # Apply preprocessing\n",
    "        val_ds = val_ds.map(self.load_image, num_parallel_calls=tf.data.AUTOTUNE)\n",
    "\n",
    "        # Batch\n",
    "        val_ds = val_ds.cache().batch(self.config.params_batch_size).prefetch(tf.data.AUTOTUNE)\n",
    "\n",
    "        return val_ds\n",
    "\n",
    "    def load_image(self, file_path, label):\n",
    "        image = tf.io.read_file(file_path)\n",
    "        image = tf.image.decode_jpeg(image, channels=3)\n",
    "        image = tf.image.resize(image, self.config.params_image_size[:-1])\n",
    "        image = tf.image.rgb_to_grayscale(image)\n",
    "        return image, label\n",
    "\n",
    "    def load_model(self, path: Path) -> tf.keras.Model:\n",
    "        return tf.keras.models.load_model(path)\n",
    "\n",
    "    def evaluation(self):\n",
    "        self.val_ds = self.load_data()\n",
    "        self.score = self.model.evaluate(self.val_ds)\n",
    "        self.save_score()\n",
    "\n",
    "\n",
    "    def save_score(self):\n",
    "        scores = {\"loss\": self.score[0], \"accuracy\": self.score[1]}\n",
    "        save_json(path=Path(\"scores.json\"), data=scores)\n",
    "\n",
    "    \n",
    "    def log_into_mlflow(self):\n",
    "        mlflow.set_registry_uri(self.config.mlflow_uri)\n",
    "        tracking_url_type_store = urlparse(mlflow.get_tracking_uri()).scheme\n",
    "        \n",
    "        with mlflow.start_run():\n",
    "            mlflow.log_params(self.config.all_params)\n",
    "            mlflow.log_metrics(\n",
    "                {\"loss\": self.score[0], \"accuracy\": self.score[1]}\n",
    "            )\n",
    "            # Model registry does not work with file store\n",
    "            if tracking_url_type_store != \"file\":\n",
    "\n",
    "                # Register the model\n",
    "                # There are other ways to use the Model Registry, which depends on the use case,\n",
    "                # please refer to the doc for more information:\n",
    "                # https://mlflow.org/docs/latest/model-registry.html#api-workflow\n",
    "                mlflow.tensorflow.log_model(self.model, \"model\", registered_model_name=\"Model768\")\n",
    "            else:\n",
    "                mlflow.tensorflow.log_model(self.model, \"model\")\n"
   ]
  },
  {
   "cell_type": "code",
   "execution_count": 13,
   "metadata": {},
   "outputs": [
    {
     "name": "stdout",
     "output_type": "stream",
     "text": [
      "[2024-11-06 13:13:49,848: INFO: common: yaml file: config\\config.yaml loaded successfully]\n",
      "[2024-11-06 13:13:49,851: INFO: common: yaml file: params.yaml loaded successfully]\n",
      "[2024-11-06 13:13:49,852: INFO: common: created directory at: artifacts]\n",
      "WARNING:tensorflow:From d:\\Code\\Git\\myprojects\\Equation-Solver-End-to-End\\Handwritten_Equation_Solver\\.eq_solver_venv\\Lib\\site-packages\\keras\\src\\utils\\tf_utils.py:492: The name tf.ragged.RaggedTensorValue is deprecated. Please use tf.compat.v1.ragged.RaggedTensorValue instead.\n",
      "\n",
      "[2024-11-06 13:13:50,549: WARNING: module_wrapper: From d:\\Code\\Git\\myprojects\\Equation-Solver-End-to-End\\Handwritten_Equation_Solver\\.eq_solver_venv\\Lib\\site-packages\\keras\\src\\utils\\tf_utils.py:492: The name tf.ragged.RaggedTensorValue is deprecated. Please use tf.compat.v1.ragged.RaggedTensorValue instead.\n",
      "]\n",
      "4/4 [==============================] - 1s 40ms/step - loss: 0.1589 - accuracy: 0.9880\n",
      "[2024-11-06 13:13:50,854: INFO: common: json file saved at: scores.json]\n"
     ]
    },
    {
     "name": "stderr",
     "output_type": "stream",
     "text": [
      "2024/11/06 13:13:52 WARNING mlflow.tensorflow: You are saving a TensorFlow Core model or Keras model without a signature. Inference with mlflow.pyfunc.spark_udf() will not work unless the model's pyfunc representation accepts pandas DataFrames as inference inputs.\n"
     ]
    },
    {
     "name": "stdout",
     "output_type": "stream",
     "text": [
      "INFO:tensorflow:Assets written to: C:\\Users\\anand\\AppData\\Local\\Temp\\tmp85g_qg6a\\model\\data\\model\\assets\n",
      "[2024-11-06 13:13:53,344: INFO: builder_impl: Assets written to: C:\\Users\\anand\\AppData\\Local\\Temp\\tmp85g_qg6a\\model\\data\\model\\assets]\n"
     ]
    },
    {
     "name": "stderr",
     "output_type": "stream",
     "text": [
      "2024/11/06 13:14:07 WARNING mlflow.models.model: Model logged without a signature and input example. Please set `input_example` parameter when logging the model to auto infer the model signature.\n",
      "Registered model 'Model768' already exists. Creating a new version of this model...\n",
      "2024/11/06 13:14:22 INFO mlflow.store.model_registry.abstract_store: Waiting up to 300 seconds for model version to finish creation. Model name: Model768, version 10\n",
      "Created version '10' of model 'Model768'.\n",
      "2024/11/06 13:14:23 INFO mlflow.tracking._tracking_service.client: 🏃 View run unleashed-sheep-96 at: https://dagshub.com/anandsr724/Handwritten_Equation_Solver.mlflow/#/experiments/0/runs/cb67689961804422b62a328a76d4439d.\n",
      "2024/11/06 13:14:23 INFO mlflow.tracking._tracking_service.client: 🧪 View experiment at: https://dagshub.com/anandsr724/Handwritten_Equation_Solver.mlflow/#/experiments/0.\n"
     ]
    }
   ],
   "source": [
    "try:\n",
    "    config = ConfigurationManager()\n",
    "    eval_config = config.get_evaluation_config()\n",
    "    evaluation = Evaluation(eval_config)\n",
    "    evaluation.evaluation()\n",
    "    evaluation.log_into_mlflow()\n",
    "\n",
    "except Exception as e:\n",
    "   raise e"
   ]
  }
 ],
 "metadata": {
  "kernelspec": {
   "display_name": ".eq_solver_venv",
   "language": "python",
   "name": "python3"
  },
  "language_info": {
   "codemirror_mode": {
    "name": "ipython",
    "version": 3
   },
   "file_extension": ".py",
   "mimetype": "text/x-python",
   "name": "python",
   "nbconvert_exporter": "python",
   "pygments_lexer": "ipython3",
   "version": "3.11.7"
  },
  "orig_nbformat": 4
 },
 "nbformat": 4,
 "nbformat_minor": 2
}
