{
 "cells": [
  {
   "cell_type": "code",
   "execution_count": 1,
   "metadata": {},
   "outputs": [],
   "source": [
    "import os"
   ]
  },
  {
   "cell_type": "code",
   "execution_count": 2,
   "metadata": {},
   "outputs": [
    {
     "data": {
      "text/plain": [
       "'d:\\\\Code\\\\Git\\\\myprojects\\\\Equation-Solver-End-to-End\\\\Handwritten_Equation_Solver\\\\research'"
      ]
     },
     "execution_count": 2,
     "metadata": {},
     "output_type": "execute_result"
    }
   ],
   "source": [
    "%pwd"
   ]
  },
  {
   "cell_type": "code",
   "execution_count": 3,
   "metadata": {},
   "outputs": [],
   "source": [
    "os.chdir(\"../\")"
   ]
  },
  {
   "cell_type": "code",
   "execution_count": 4,
   "metadata": {},
   "outputs": [
    {
     "data": {
      "text/plain": [
       "'d:\\\\Code\\\\Git\\\\myprojects\\\\Equation-Solver-End-to-End\\\\Handwritten_Equation_Solver'"
      ]
     },
     "execution_count": 4,
     "metadata": {},
     "output_type": "execute_result"
    }
   ],
   "source": [
    "%pwd\n"
   ]
  },
  {
   "cell_type": "code",
   "execution_count": 5,
   "metadata": {},
   "outputs": [],
   "source": [
    "from dataclasses import dataclass\n",
    "from pathlib import Path\n",
    "from equation_solver.utils.common import get_unique_class_names\n",
    "\n",
    "@dataclass(frozen=True)\n",
    "class TrainingConfig:\n",
    "    root_dir: Path\n",
    "    trained_model_path: Path\n",
    "    updated_base_model_path: Path\n",
    "    training_data: Path\n",
    "    params_epochs: int\n",
    "    params_batch_size: int\n",
    "    params_is_augmentation: bool\n",
    "    params_image_size: list\n",
    "    classes_ideal: list"
   ]
  },
  {
   "cell_type": "code",
   "execution_count": 6,
   "metadata": {},
   "outputs": [],
   "source": [
    "from equation_solver.constants import *\n",
    "from equation_solver.utils.common import read_yaml, create_directories\n"
   ]
  },
  {
   "cell_type": "code",
   "execution_count": 7,
   "metadata": {},
   "outputs": [
    {
     "name": "stdout",
     "output_type": "stream",
     "text": [
      "[2024-11-06 12:42:10,503: WARNING: module_wrapper: From d:\\Code\\Git\\myprojects\\Equation-Solver-End-to-End\\Handwritten_Equation_Solver\\.eq_solver_venv\\Lib\\site-packages\\keras\\src\\losses.py:2976: The name tf.losses.sparse_softmax_cross_entropy is deprecated. Please use tf.compat.v1.losses.sparse_softmax_cross_entropy instead.\n",
      "]\n"
     ]
    }
   ],
   "source": [
    "import os\n",
    "import numpy as np\n",
    "from sklearn.model_selection import train_test_split\n",
    "from imblearn.over_sampling import RandomOverSampler\n",
    "import tensorflow as tf"
   ]
  },
  {
   "cell_type": "code",
   "execution_count": 8,
   "metadata": {},
   "outputs": [],
   "source": [
    "class ConfigurationManager:\n",
    "    def __init__(self, config_filepath=CONFIG_FILE_PATH, params_filepath=PARAMS_FILE_PATH):\n",
    "        self.config = read_yaml(config_filepath)\n",
    "        self.params = read_yaml(params_filepath)\n",
    "        create_directories([self.config.artifacts_root])\n",
    "\n",
    "    def get_training_config(self) -> TrainingConfig:\n",
    "        training = self.config.training\n",
    "        prepare_base_model = self.config.prepare_base_model\n",
    "        params = self.params\n",
    "        training_data = os.path.join(self.config.data_ingestion.unzip_dir, \"symbol_data\")\n",
    "        classes_ideal = get_unique_class_names(training_data)\n",
    "        create_directories([Path(training.root_dir)])\n",
    "\n",
    "        training_config = TrainingConfig(\n",
    "            root_dir=Path(training.root_dir),\n",
    "            trained_model_path=Path(training.trained_model_path),\n",
    "            updated_base_model_path=Path(prepare_base_model.updated_base_model_path),\n",
    "            training_data=Path(training_data),\n",
    "            params_epochs=params.EPOCHS,\n",
    "            params_batch_size=params.BATCH_SIZE,\n",
    "            params_is_augmentation=params.AUGMENTATION,\n",
    "            params_image_size=params.IMAGE_SIZE,\n",
    "            classes_ideal=classes_ideal\n",
    "        )\n",
    "\n",
    "        return training_config"
   ]
  },
  {
   "cell_type": "code",
   "execution_count": 9,
   "metadata": {},
   "outputs": [],
   "source": [
    "class DataGenerator:\n",
    "    def __init__(self, config: TrainingConfig):\n",
    "        self.config = config\n",
    "        self.class_indices = {name: idx for idx, name in enumerate(self.config.classes_ideal)}\n",
    "\n",
    "    def load_data(self):\n",
    "        all_files = []\n",
    "        for root, dirs, files in os.walk(self.config.training_data):\n",
    "            for file in files:\n",
    "                if file.endswith(('.png', '.jpg', '.jpeg')):\n",
    "                    class_name = os.path.basename(root)\n",
    "                    if class_name in self.class_indices:\n",
    "                        file_path = os.path.join(root, file)\n",
    "                        all_files.append((file_path, class_name))\n",
    "\n",
    "        # print(f\"Total files found: {len(all_files)}\")\n",
    "        # print(f\"Number of classes: {len(self.class_indices)}\")\n",
    "        # print(f\"Class indices: {self.class_indices}\")\n",
    "\n",
    "        # Shuffle the files\n",
    "        np.random.shuffle(all_files)\n",
    "\n",
    "        # Split file paths and labels\n",
    "        file_paths, class_names = zip(*all_files)\n",
    "        labels = [self.class_indices[class_name] for class_name in class_names]\n",
    "\n",
    "        # Perform stratified split\n",
    "        file_paths_train, file_paths_val, labels_train, labels_val = train_test_split(\n",
    "            file_paths, labels, test_size=0.2, stratify=labels, random_state=34\n",
    "        )\n",
    "\n",
    "        # print(f\"Training samples: {len(file_paths_train)}\")\n",
    "        # print(f\"Validation samples: {len(file_paths_val)}\")\n",
    "\n",
    "        # Oversample the training data\n",
    "        oversampler = RandomOverSampler(sampling_strategy='auto', random_state=54)\n",
    "        file_paths_train_resampled, labels_train_resampled = oversampler.fit_resample(\n",
    "            np.array(file_paths_train).reshape(-1, 1), labels_train\n",
    "        )\n",
    "        file_paths_train_resampled = file_paths_train_resampled.flatten()\n",
    "\n",
    "        # Create datasets\n",
    "        train_ds = tf.data.Dataset.from_tensor_slices((file_paths_train_resampled, labels_train_resampled))\n",
    "        val_ds = tf.data.Dataset.from_tensor_slices((file_paths_val, labels_val))\n",
    "\n",
    "        # Apply preprocessing\n",
    "        train_ds = train_ds.map(self.load_image, num_parallel_calls=tf.data.AUTOTUNE)\n",
    "        val_ds = val_ds.map(self.load_image, num_parallel_calls=tf.data.AUTOTUNE)\n",
    "\n",
    "        # Shuffle and batch\n",
    "        train_ds = train_ds.cache().shuffle(buffer_size=len(file_paths_train_resampled)).batch(self.config.params_batch_size).prefetch(tf.data.AUTOTUNE)\n",
    "        val_ds = val_ds.cache().batch(self.config.params_batch_size).prefetch(tf.data.AUTOTUNE)\n",
    "\n",
    "        return train_ds, val_ds\n",
    "\n",
    "    def load_image(self, file_path, label):\n",
    "        image = tf.io.read_file(file_path)\n",
    "        image = tf.image.decode_jpeg(image, channels=3)\n",
    "        image = tf.image.resize(image, self.config.params_image_size[:-1])\n",
    "        image = tf.image.rgb_to_grayscale(image)\n",
    "        return image, label"
   ]
  },
  {
   "cell_type": "code",
   "execution_count": 10,
   "metadata": {},
   "outputs": [],
   "source": [
    "class Training:\n",
    "    def __init__(self, config: TrainingConfig):\n",
    "        self.config = config\n",
    "        self.batch_size = self.config.params_batch_size\n",
    "        self.data_generator = DataGenerator(config)\n",
    "        self.train_ds, self.val_ds = self.data_generator.load_data()\n",
    "        # print(f\"Using batch size: {self.batch_size}\")\n",
    "\n",
    "    def get_base_model(self):\n",
    "        self.model = tf.keras.models.load_model(\n",
    "            self.config.updated_base_model_path\n",
    "        )\n",
    "        \n",
    "        input_shape = self.model.input_shape\n",
    "        # print(f\"Model expects input shape: {input_shape}\")\n",
    "        # self.model.summary()\n",
    "\n",
    "    def train_valid_generator(self):\n",
    "        pass\n",
    "\n",
    "    def train(self):\n",
    "        # Calculate steps properly\n",
    "        self.steps_per_epoch = len(self.train_ds)\n",
    "        self.validation_steps = len(self.val_ds)\n",
    "\n",
    "        self.model.compile(\n",
    "            optimizer='adam',\n",
    "            loss='sparse_categorical_crossentropy',\n",
    "            metrics=['accuracy']\n",
    "        )\n",
    "\n",
    "        # Train the model\n",
    "        history = self.model.fit(\n",
    "            self.train_ds,\n",
    "            epochs=self.config.params_epochs,\n",
    "            steps_per_epoch=self.steps_per_epoch,\n",
    "            validation_steps=self.validation_steps,\n",
    "            validation_data=self.val_ds,\n",
    "            verbose=1\n",
    "        )\n",
    "\n",
    "        self.save_model(\n",
    "            path=self.config.trained_model_path,\n",
    "            model=self.model\n",
    "        )\n",
    "        \n",
    "        return history\n",
    "\n",
    "    @staticmethod\n",
    "    def save_model(path: Path, model: tf.keras.Model):\n",
    "        model.save(path)"
   ]
  },
  {
   "cell_type": "code",
   "execution_count": 12,
   "metadata": {},
   "outputs": [
    {
     "name": "stdout",
     "output_type": "stream",
     "text": [
      "[2024-11-06 12:44:06,096: INFO: common: yaml file: config\\config.yaml loaded successfully]\n",
      "[2024-11-06 12:44:06,099: INFO: common: yaml file: params.yaml loaded successfully]\n",
      "[2024-11-06 12:44:06,101: INFO: common: created directory at: artifacts]\n",
      "[2024-11-06 12:44:06,115: INFO: common: created directory at: artifacts\\training]\n",
      "[2024-11-06 12:44:06,521: WARNING: module_wrapper: From d:\\Code\\Git\\myprojects\\Equation-Solver-End-to-End\\Handwritten_Equation_Solver\\.eq_solver_venv\\Lib\\site-packages\\keras\\src\\backend.py:1398: The name tf.executing_eagerly_outside_functions is deprecated. Please use tf.compat.v1.executing_eagerly_outside_functions instead.\n",
      "]\n",
      "[2024-11-06 12:44:06,917: WARNING: module_wrapper: From d:\\Code\\Git\\myprojects\\Equation-Solver-End-to-End\\Handwritten_Equation_Solver\\.eq_solver_venv\\Lib\\site-packages\\keras\\src\\optimizers\\__init__.py:309: The name tf.train.Optimizer is deprecated. Please use tf.compat.v1.train.Optimizer instead.\n",
      "]\n",
      "Epoch 1/5\n",
      "[2024-11-06 12:44:07,271: WARNING: module_wrapper: From d:\\Code\\Git\\myprojects\\Equation-Solver-End-to-End\\Handwritten_Equation_Solver\\.eq_solver_venv\\Lib\\site-packages\\keras\\src\\utils\\tf_utils.py:492: The name tf.ragged.RaggedTensorValue is deprecated. Please use tf.compat.v1.ragged.RaggedTensorValue instead.\n",
      "]\n",
      "[2024-11-06 12:44:07,558: WARNING: module_wrapper: From d:\\Code\\Git\\myprojects\\Equation-Solver-End-to-End\\Handwritten_Equation_Solver\\.eq_solver_venv\\Lib\\site-packages\\keras\\src\\engine\\base_layer_utils.py:384: The name tf.executing_eagerly_outside_functions is deprecated. Please use tf.compat.v1.executing_eagerly_outside_functions instead.\n",
      "]\n",
      "16/16 [==============================] - 2s 55ms/step - loss: 0.2029 - accuracy: 0.9830 - val_loss: 0.1379 - val_accuracy: 0.9940\n",
      "Epoch 2/5\n",
      "16/16 [==============================] - 1s 35ms/step - loss: 0.2056 - accuracy: 0.9815 - val_loss: 0.1374 - val_accuracy: 0.9940\n",
      "Epoch 3/5\n",
      "16/16 [==============================] - 1s 34ms/step - loss: 0.1988 - accuracy: 0.9830 - val_loss: 0.1369 - val_accuracy: 0.9960\n",
      "Epoch 4/5\n",
      "16/16 [==============================] - 1s 35ms/step - loss: 0.1944 - accuracy: 0.9835 - val_loss: 0.1366 - val_accuracy: 0.9960\n",
      "Epoch 5/5\n",
      "16/16 [==============================] - 1s 34ms/step - loss: 0.1926 - accuracy: 0.9880 - val_loss: 0.1367 - val_accuracy: 0.9960\n"
     ]
    },
    {
     "name": "stderr",
     "output_type": "stream",
     "text": [
      "d:\\Code\\Git\\myprojects\\Equation-Solver-End-to-End\\Handwritten_Equation_Solver\\.eq_solver_venv\\Lib\\site-packages\\keras\\src\\engine\\training.py:3103: UserWarning: You are saving your model as an HDF5 file via `model.save()`. This file format is considered legacy. We recommend using instead the native Keras format, e.g. `model.save('my_model.keras')`.\n",
      "  saving_api.save_model(\n"
     ]
    }
   ],
   "source": [
    "try:\n",
    "    config = ConfigurationManager()\n",
    "    training_config = config.get_training_config()\n",
    "    training = Training(config=training_config)\n",
    "    training.get_base_model()\n",
    "    training.train_valid_generator()\n",
    "    training.train()\n",
    "    \n",
    "except Exception as e:\n",
    "    raise e\n"
   ]
  }
 ],
 "metadata": {
  "kernelspec": {
   "display_name": ".eq_solver_venv",
   "language": "python",
   "name": "python3"
  },
  "language_info": {
   "codemirror_mode": {
    "name": "ipython",
    "version": 3
   },
   "file_extension": ".py",
   "mimetype": "text/x-python",
   "name": "python",
   "nbconvert_exporter": "python",
   "pygments_lexer": "ipython3",
   "version": "3.11.7"
  },
  "orig_nbformat": 4
 },
 "nbformat": 4,
 "nbformat_minor": 2
}
