{
 "cells": [
  {
   "cell_type": "code",
   "execution_count": 5,
   "metadata": {},
   "outputs": [],
   "source": [
    "import os"
   ]
  },
  {
   "cell_type": "code",
   "execution_count": 29,
   "metadata": {},
   "outputs": [
    {
     "data": {
      "text/plain": [
       "'d:\\\\Code\\\\Git\\\\myprojects\\\\Equation-Solver-End-to-End\\\\Handwritten_Equation_Solver'"
      ]
     },
     "execution_count": 29,
     "metadata": {},
     "output_type": "execute_result"
    }
   ],
   "source": [
    "%pwd"
   ]
  },
  {
   "cell_type": "code",
   "execution_count": 2,
   "metadata": {},
   "outputs": [],
   "source": [
    "os.chdir(\"../\")"
   ]
  },
  {
   "cell_type": "code",
   "execution_count": 21,
   "metadata": {},
   "outputs": [
    {
     "data": {
      "text/plain": [
       "'d:\\\\Code\\\\Git\\\\myprojects\\\\Equation-Solver-End-to-End\\\\Handwritten_Equation_Solver'"
      ]
     },
     "execution_count": 21,
     "metadata": {},
     "output_type": "execute_result"
    }
   ],
   "source": [
    "%pwd"
   ]
  },
  {
   "cell_type": "code",
   "execution_count": 67,
   "metadata": {},
   "outputs": [],
   "source": [
    "from dataclasses import dataclass\n",
    "from pathlib import Path\n",
    "\n",
    "\n",
    "@dataclass(frozen=True)\n",
    "class PrepareBaseModelConfig:\n",
    "    root_dir: Path\n",
    "    custom_model_URL: str\n",
    "    base_model_path: Path\n",
    "    updated_base_model_path: Path\n",
    "    params_image_size: list\n",
    "    params_learning_rate: float\n",
    "    params_include_top: bool\n",
    "    params_weights: str\n",
    "    params_classes: int\n",
    "    params_keep_dense: bool\n",
    "    params_freeze_all: bool\n",
    "    params_freeze_till: int"
   ]
  },
  {
   "cell_type": "code",
   "execution_count": 68,
   "metadata": {},
   "outputs": [],
   "source": [
    "from equation_solver.constants import *\n",
    "from equation_solver.utils.common import read_yaml, create_directories"
   ]
  },
  {
   "cell_type": "code",
   "execution_count": 69,
   "metadata": {},
   "outputs": [],
   "source": [
    "class ConfigurationManager:\n",
    "    def __init__(\n",
    "        self,\n",
    "        config_filepath = CONFIG_FILE_PATH,\n",
    "        params_filepath = PARAMS_FILE_PATH):\n",
    "\n",
    "        self.config = read_yaml(config_filepath)\n",
    "        self.params = read_yaml(params_filepath)\n",
    "\n",
    "        create_directories([self.config.artifacts_root])\n",
    "\n",
    "    \n",
    "\n",
    "    def get_prepare_base_model_config(self) -> PrepareBaseModelConfig:\n",
    "        config = self.config.prepare_base_model\n",
    "        \n",
    "        create_directories([config.root_dir])\n",
    "\n",
    "        prepare_base_model_config = PrepareBaseModelConfig(\n",
    "            root_dir=Path(config.root_dir),\n",
    "            custom_model_URL=str(config.custom_model_URL),\n",
    "            base_model_path=Path(config.base_model_path),\n",
    "            updated_base_model_path=Path(config.updated_base_model_path),\n",
    "            params_image_size=self.params.IMAGE_SIZE,\n",
    "            params_learning_rate=self.params.LEARNING_RATE,\n",
    "            params_include_top=self.params.INCLUDE_TOP,\n",
    "            params_weights=self.params.WEIGHTS,\n",
    "            params_classes=self.params.CLASSES,\n",
    "            params_keep_dense=self.params.KEEP_DENSE,\n",
    "            params_freeze_all=self.params.FREEZE_ALL,\n",
    "            params_freeze_till=self.params.FREEZE_TILL,\n",
    "        )\n",
    "\n",
    "        return prepare_base_model_config"
   ]
  },
  {
   "cell_type": "code",
   "execution_count": 70,
   "metadata": {},
   "outputs": [],
   "source": [
    "import os\n",
    "import urllib.request as request\n",
    "from zipfile import ZipFile\n",
    "import tensorflow as tf\n",
    "import gdown\n",
    "from equation_solver import logger"
   ]
  },
  {
   "cell_type": "code",
   "execution_count": 84,
   "metadata": {},
   "outputs": [],
   "source": [
    "class PrepareBaseModel:\n",
    "    def __init__(self, config: PrepareBaseModelConfig):\n",
    "        self.config = config\n",
    "\n",
    "    def get_base_model(self):\n",
    "        '''\n",
    "        Fetch data from the url\n",
    "        '''\n",
    "        try: \n",
    "            model_url = self.config.custom_model_URL\n",
    "            model_download_dir = self.config.base_model_path\n",
    "            os.makedirs(\"artifacts/data_ingestion\", exist_ok=True)\n",
    "            logger.info(f\"Downloading model from {model_url} into file {model_download_dir}\")\n",
    "\n",
    "            file_id = model_url.split(\"/\")[-2]\n",
    "            prefix = 'https://drive.google.com/uc?/export=download&id='\n",
    "            gdown.download(prefix+file_id,str(model_download_dir))\n",
    "\n",
    "            logger.info(f\"Downloaded model from {model_url} into file {model_download_dir}\")\n",
    "\n",
    "        except Exception as e:\n",
    "            raise e\n",
    "        \n",
    "        # Load the downloaded model\n",
    "        self.model = tf.keras.models.load_model(model_download_dir)\n",
    "\n",
    "    @staticmethod\n",
    "    def _prepare_full_model(model, classes, freeze_all, freeze_till, learning_rate, keep_dense):\n",
    "        # Function to check if a layer is a convolutional layer\n",
    "        def is_conv_layer(layer):\n",
    "            return isinstance(layer, (\n",
    "                tf.keras.layers.Conv2D,\n",
    "                tf.keras.layers.Conv1D,\n",
    "                tf.keras.layers.Conv3D,\n",
    "                tf.keras.layers.DepthwiseConv2D,\n",
    "                tf.keras.layers.SeparableConv2D\n",
    "            ))\n",
    "        \n",
    "        # Function to check if a layer is a dense layer\n",
    "        def is_dense_layer(layer):\n",
    "            return isinstance(layer, tf.keras.layers.Dense)\n",
    "\n",
    "        if freeze_all:\n",
    "            # Freeze only convolutional layers\n",
    "            for layer in model.layers:\n",
    "                if is_conv_layer(layer):\n",
    "                    layer.trainable = False\n",
    "                elif is_dense_layer(layer):\n",
    "                    layer.trainable = True\n",
    "                # Other layers (like BatchNorm) associated with conv layers should also be frozen\n",
    "                elif not is_dense_layer(layer) and not isinstance(layer, (tf.keras.layers.Dropout, tf.keras.layers.Flatten)):\n",
    "                    layer.trainable = False\n",
    "        elif (freeze_till is not None) and (freeze_till > 0):\n",
    "            # Find the last convolutional layer\n",
    "            last_conv_index = 0\n",
    "            for i, layer in enumerate(model.layers):\n",
    "                if is_conv_layer(layer):\n",
    "                    last_conv_index = i\n",
    "            \n",
    "            # Freeze layers up to the last convolutional layer\n",
    "            for i, layer in enumerate(model.layers):\n",
    "                if i <= last_conv_index:\n",
    "                    layer.trainable = False\n",
    "                else:\n",
    "                    layer.trainable = True\n",
    "\n",
    "        if not keep_dense:\n",
    "            # Get the output of the last convolutional layer\n",
    "            last_conv_layer = None\n",
    "            for layer in model.layers:\n",
    "                if is_conv_layer(layer):\n",
    "                    last_conv_layer = layer\n",
    "            \n",
    "            if last_conv_layer is None:\n",
    "                raise ValueError(\"No convolutional layers found in the model\")\n",
    "            \n",
    "            x = last_conv_layer.output\n",
    "\n",
    "            # Flatten the output\n",
    "            x = tf.keras.layers.Flatten()(x)\n",
    "\n",
    "            # Add Dense layers similar to your original model\n",
    "            x = tf.keras.layers.Dense(\n",
    "                768, \n",
    "                activation='relu',\n",
    "                kernel_initializer='glorot_uniform',\n",
    "                bias_initializer='zeros',\n",
    "                kernel_regularizer=tf.keras.regularizers.l2(0.01),\n",
    "                trainable=True  # Explicitly set dense layers as trainable\n",
    "            )(x)\n",
    "            x = tf.keras.layers.Dropout(0.25)(x)\n",
    "            x = tf.keras.layers.Dense(\n",
    "                128,\n",
    "                activation='relu',\n",
    "                kernel_initializer='glorot_uniform',\n",
    "                bias_initializer='zeros',\n",
    "                kernel_regularizer=tf.keras.regularizers.l2(0.01),\n",
    "                trainable=True\n",
    "            )(x)\n",
    "            x = tf.keras.layers.Dropout(0.25)(x)\n",
    "\n",
    "            # Final output layer\n",
    "            prediction = tf.keras.layers.Dense(\n",
    "                classes,\n",
    "                activation='softmax',\n",
    "                kernel_initializer='glorot_uniform',\n",
    "                bias_initializer='zeros',\n",
    "                trainable=True\n",
    "            )(x)\n",
    "\n",
    "            full_model = tf.keras.models.Model(inputs=model.input, outputs=prediction)\n",
    "        else:\n",
    "            full_model = model\n",
    "\n",
    "        full_model.compile(\n",
    "            optimizer=tf.keras.optimizers.Adam(learning_rate=learning_rate),\n",
    "            loss=tf.keras.losses.SparseCategoricalCrossentropy(),\n",
    "            metrics=['accuracy']\n",
    "        )\n",
    "\n",
    "        # Print trainable status of layers\n",
    "        logger.info(\"Layer trainable status:\")\n",
    "        # print(\"\\nLayer trainable status:\")\n",
    "        for layer in full_model.layers:\n",
    "            # print(f\"{layer.name}: {layer.trainable}\")\n",
    "            logger.info(f\"{layer.name}: {layer.trainable}\")\n",
    "\n",
    "\n",
    "        full_model.summary()\n",
    "        return full_model\n",
    "\n",
    "    def update_base_model(self):\n",
    "        self.full_model = self._prepare_full_model(\n",
    "            model=self.model,\n",
    "            classes=self.config.params_classes,\n",
    "            freeze_all=self.config.params_freeze_all,\n",
    "            freeze_till=self.config.params_freeze_till,\n",
    "            learning_rate=self.config.params_learning_rate,\n",
    "            keep_dense=self.config.params_keep_dense,\n",
    "        )\n",
    "\n",
    "        self.save_model(path=self.config.updated_base_model_path, model=self.full_model)\n",
    "\n",
    "    @staticmethod\n",
    "    def save_model(path: Path, model: tf.keras.Model):\n",
    "        model.save(path)"
   ]
  },
  {
   "cell_type": "code",
   "execution_count": 85,
   "metadata": {},
   "outputs": [
    {
     "name": "stdout",
     "output_type": "stream",
     "text": [
      "[2024-10-21 19:10:30,010: INFO: common: yaml file: config\\config.yaml loaded successfully]\n",
      "[2024-10-21 19:10:30,013: INFO: common: yaml file: params.yaml loaded successfully]\n",
      "[2024-10-21 19:10:30,014: INFO: common: created directory at: artifacts]\n",
      "[2024-10-21 19:10:30,015: INFO: common: created directory at: artifacts/prepare_base_model]\n",
      "[2024-10-21 19:10:30,016: INFO: 3512771067: Downloading model from https://drive.google.com/file/d/1cjGBSfGIQDtlhq5-0H5DuQZS346zqiZZ/view?usp=sharing into file artifacts\\prepare_base_model\\base_model.h5]\n"
     ]
    },
    {
     "name": "stderr",
     "output_type": "stream",
     "text": [
      "Downloading...\n",
      "From: https://drive.google.com/uc?/export=download&id=1cjGBSfGIQDtlhq5-0H5DuQZS346zqiZZ\n",
      "To: d:\\Code\\Git\\myprojects\\Equation-Solver-End-to-End\\Handwritten_Equation_Solver\\artifacts\\prepare_base_model\\base_model.h5\n",
      "100%|██████████| 44.8M/44.8M [00:05<00:00, 8.09MB/s]"
     ]
    },
    {
     "name": "stdout",
     "output_type": "stream",
     "text": [
      "[2024-10-21 19:10:40,234: INFO: 3512771067: Downloaded model from https://drive.google.com/file/d/1cjGBSfGIQDtlhq5-0H5DuQZS346zqiZZ/view?usp=sharing into file artifacts\\prepare_base_model\\base_model.h5]\n"
     ]
    },
    {
     "name": "stderr",
     "output_type": "stream",
     "text": [
      "\n"
     ]
    },
    {
     "name": "stdout",
     "output_type": "stream",
     "text": [
      "[2024-10-21 19:10:40,495: INFO: 3512771067: \n",
      "Layer trainable status:]\n",
      "[2024-10-21 19:10:40,496: INFO: 3512771067: rescaling: False]\n",
      "[2024-10-21 19:10:40,497: INFO: 3512771067: conv2d: False]\n",
      "[2024-10-21 19:10:40,498: INFO: 3512771067: conv2d_1: False]\n",
      "[2024-10-21 19:10:40,499: INFO: 3512771067: conv2d_2: False]\n",
      "[2024-10-21 19:10:40,500: INFO: 3512771067: conv2d_3: False]\n",
      "[2024-10-21 19:10:40,501: INFO: 3512771067: conv2d_4: False]\n",
      "[2024-10-21 19:10:40,501: INFO: 3512771067: flatten: True]\n",
      "[2024-10-21 19:10:40,502: INFO: 3512771067: dense: True]\n",
      "[2024-10-21 19:10:40,503: INFO: 3512771067: dropout: True]\n",
      "[2024-10-21 19:10:40,504: INFO: 3512771067: dense_1: True]\n",
      "[2024-10-21 19:10:40,505: INFO: 3512771067: dropout_1: True]\n",
      "[2024-10-21 19:10:40,506: INFO: 3512771067: dense_2: True]\n",
      "Model: \"sequential\"\n",
      "_________________________________________________________________\n",
      " Layer (type)                Output Shape              Param #   \n",
      "=================================================================\n",
      " rescaling (Rescaling)       (None, 45, 45, 1)         0         \n",
      "                                                                 \n",
      " conv2d (Conv2D)             (None, 45, 45, 32)        320       \n",
      "                                                                 \n",
      " conv2d_1 (Conv2D)           (None, 23, 23, 32)        9248      \n",
      "                                                                 \n",
      " conv2d_2 (Conv2D)           (None, 23, 23, 64)        18496     \n",
      "                                                                 \n",
      " conv2d_3 (Conv2D)           (None, 12, 12, 64)        36928     \n",
      "                                                                 \n",
      " conv2d_4 (Conv2D)           (None, 12, 12, 32)        18464     \n",
      "                                                                 \n",
      " flatten (Flatten)           (None, 4608)              0         \n",
      "                                                                 \n",
      " dense (Dense)               (None, 768)               3539712   \n",
      "                                                                 \n",
      " dropout (Dropout)           (None, 768)               0         \n",
      "                                                                 \n",
      " dense_1 (Dense)             (None, 128)               98432     \n",
      "                                                                 \n",
      " dropout_1 (Dropout)         (None, 128)               0         \n",
      "                                                                 \n",
      " dense_2 (Dense)             (None, 25)                3225      \n",
      "                                                                 \n",
      "=================================================================\n",
      "Total params: 3724825 (14.21 MB)\n",
      "Trainable params: 3641369 (13.89 MB)\n",
      "Non-trainable params: 83456 (326.00 KB)\n",
      "_________________________________________________________________\n"
     ]
    }
   ],
   "source": [
    "try:\n",
    "    config = ConfigurationManager()\n",
    "    prepare_base_model_config = config.get_prepare_base_model_config()\n",
    "    prepare_base_model = PrepareBaseModel(config=prepare_base_model_config)\n",
    "    prepare_base_model.get_base_model()\n",
    "    prepare_base_model.update_base_model()\n",
    "except Exception as e:\n",
    "    raise e"
   ]
  },
  {
   "cell_type": "code",
   "execution_count": null,
   "metadata": {},
   "outputs": [],
   "source": []
  }
 ],
 "metadata": {
  "kernelspec": {
   "display_name": "myenv",
   "language": "python",
   "name": "python3"
  },
  "language_info": {
   "codemirror_mode": {
    "name": "ipython",
    "version": 3
   },
   "file_extension": ".py",
   "mimetype": "text/x-python",
   "name": "python",
   "nbconvert_exporter": "python",
   "pygments_lexer": "ipython3",
   "version": "3.11.10"
  },
  "orig_nbformat": 4
 },
 "nbformat": 4,
 "nbformat_minor": 2
}
